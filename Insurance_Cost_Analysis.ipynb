{
 "cells": [
  {
   "cell_type": "markdown",
   "id": "8d012318",
   "metadata": {},
   "source": [
    "# Setup\n",
    "### Importing Required Libraries"
   ]
  },
  {
   "cell_type": "code",
   "execution_count": 4,
   "id": "382ee867",
   "metadata": {},
   "outputs": [],
   "source": [
    "import seaborn as sns\n",
    "import pandas as pd\n",
    "import numpy as np\n",
    "import matplotlib.pyplot as plt\n",
    "from sklearn.pipeline import Pipeline\n",
    "from sklearn.preprocessing import StandardScaler, PolynomialFeatures\n",
    "from sklearn.linear_model import LinearRegression, Ridge\n",
    "from sklearn.metrics import mean_squared_error, r2_score\n",
    "from sklearn.model_selection import cross_val_score, train_test_split\n",
    "import requests"
   ]
  },
  {
   "cell_type": "markdown",
   "id": "ff26bb93",
   "metadata": {},
   "source": [
    "### Download dataset"
   ]
  },
  {
   "cell_type": "code",
   "execution_count": 7,
   "id": "133fb803",
   "metadata": {},
   "outputs": [
    {
     "data": {
      "text/html": [
       "<div>\n",
       "<style scoped>\n",
       "    .dataframe tbody tr th:only-of-type {\n",
       "        vertical-align: middle;\n",
       "    }\n",
       "\n",
       "    .dataframe tbody tr th {\n",
       "        vertical-align: top;\n",
       "    }\n",
       "\n",
       "    .dataframe thead th {\n",
       "        text-align: right;\n",
       "    }\n",
       "</style>\n",
       "<table border=\"1\" class=\"dataframe\">\n",
       "  <thead>\n",
       "    <tr style=\"text-align: right;\">\n",
       "      <th></th>\n",
       "      <th>0</th>\n",
       "      <th>1</th>\n",
       "      <th>2</th>\n",
       "      <th>3</th>\n",
       "      <th>4</th>\n",
       "      <th>5</th>\n",
       "      <th>6</th>\n",
       "    </tr>\n",
       "  </thead>\n",
       "  <tbody>\n",
       "    <tr>\n",
       "      <th>0</th>\n",
       "      <td>19</td>\n",
       "      <td>1</td>\n",
       "      <td>27.900</td>\n",
       "      <td>0</td>\n",
       "      <td>1</td>\n",
       "      <td>3</td>\n",
       "      <td>16884.92400</td>\n",
       "    </tr>\n",
       "    <tr>\n",
       "      <th>1</th>\n",
       "      <td>18</td>\n",
       "      <td>2</td>\n",
       "      <td>33.770</td>\n",
       "      <td>1</td>\n",
       "      <td>0</td>\n",
       "      <td>4</td>\n",
       "      <td>1725.55230</td>\n",
       "    </tr>\n",
       "    <tr>\n",
       "      <th>2</th>\n",
       "      <td>28</td>\n",
       "      <td>2</td>\n",
       "      <td>33.000</td>\n",
       "      <td>3</td>\n",
       "      <td>0</td>\n",
       "      <td>4</td>\n",
       "      <td>4449.46200</td>\n",
       "    </tr>\n",
       "    <tr>\n",
       "      <th>3</th>\n",
       "      <td>33</td>\n",
       "      <td>2</td>\n",
       "      <td>22.705</td>\n",
       "      <td>0</td>\n",
       "      <td>0</td>\n",
       "      <td>1</td>\n",
       "      <td>21984.47061</td>\n",
       "    </tr>\n",
       "    <tr>\n",
       "      <th>4</th>\n",
       "      <td>32</td>\n",
       "      <td>2</td>\n",
       "      <td>28.880</td>\n",
       "      <td>0</td>\n",
       "      <td>0</td>\n",
       "      <td>1</td>\n",
       "      <td>3866.85520</td>\n",
       "    </tr>\n",
       "  </tbody>\n",
       "</table>\n",
       "</div>"
      ],
      "text/plain": [
       "    0  1       2  3  4  5            6\n",
       "0  19  1  27.900  0  1  3  16884.92400\n",
       "1  18  2  33.770  1  0  4   1725.55230\n",
       "2  28  2  33.000  3  0  4   4449.46200\n",
       "3  33  2  22.705  0  0  1  21984.47061\n",
       "4  32  2  28.880  0  0  1   3866.85520"
      ]
     },
     "execution_count": 7,
     "metadata": {},
     "output_type": "execute_result"
    }
   ],
   "source": [
    "filepath = 'https://cf-courses-data.s3.us.cloud-object-storage.appdomain.cloud/IBMDeveloperSkillsNetwork-DA0101EN-Coursera/medical_insurance_dataset.csv'\n",
    "df = pd.read_csv(filepath, header=None)\n",
    "\n",
    "df.head()"
   ]
  },
  {
   "cell_type": "code",
   "execution_count": 9,
   "id": "87a2b777",
   "metadata": {},
   "outputs": [
    {
     "name": "stdout",
     "output_type": "stream",
     "text": [
      "    0  1       2  3  4  5            6\n",
      "0  19  1  27.900  0  1  3  16884.92400\n",
      "1  18  2  33.770  1  0  4   1725.55230\n",
      "2  28  2  33.000  3  0  4   4449.46200\n",
      "3  33  2  22.705  0  0  1  21984.47061\n",
      "4  32  2  28.880  0  0  1   3866.85520\n",
      "5  31  1  25.740  0  ?  4   3756.62160\n",
      "6  46  1  33.440  1  0  4   8240.58960\n",
      "7  37  1  27.740  3  0  1   7281.50560\n",
      "8  37  2  29.830  2  0  2   6406.41070\n",
      "9  60  1  25.840  0  0  1  28923.13692\n"
     ]
    }
   ],
   "source": [
    "#Import the dataset into a pandas dataframe\n",
    "#Print the first 10 rows of the dataframe to confirm successful loading:\n",
    "print(df.head(10))"
   ]
  },
  {
   "cell_type": "markdown",
   "id": "3b1245b2",
   "metadata": {},
   "source": [
    "# Data Cleaning"
   ]
  },
  {
   "cell_type": "code",
   "execution_count": 10,
   "id": "954480db",
   "metadata": {},
   "outputs": [],
   "source": [
    "#Add the headers:\n",
    "headers = ['Age','Gender','BMI','No_of_Children','Smoker','Region','Charges']\n",
    "df.columns = headers"
   ]
  },
  {
   "cell_type": "code",
   "execution_count": 11,
   "id": "bfbdcbeb",
   "metadata": {},
   "outputs": [],
   "source": [
    "#Replace '?' entries with 'NaN' values:\n",
    "df.replace('?', np.nan, inplace = True)"
   ]
  },
  {
   "cell_type": "code",
   "execution_count": 12,
   "id": "214bbf22",
   "metadata": {},
   "outputs": [
    {
     "name": "stdout",
     "output_type": "stream",
     "text": [
      "<class 'pandas.core.frame.DataFrame'>\n",
      "RangeIndex: 2772 entries, 0 to 2771\n",
      "Data columns (total 7 columns):\n",
      " #   Column          Non-Null Count  Dtype  \n",
      "---  ------          --------------  -----  \n",
      " 0   Age             2768 non-null   object \n",
      " 1   Gender          2772 non-null   int64  \n",
      " 2   BMI             2772 non-null   float64\n",
      " 3   No_of_Children  2772 non-null   int64  \n",
      " 4   Smoker          2765 non-null   object \n",
      " 5   Region          2772 non-null   int64  \n",
      " 6   Charges         2772 non-null   float64\n",
      "dtypes: float64(2), int64(3), object(2)\n",
      "memory usage: 151.7+ KB\n",
      "None\n"
     ]
    }
   ],
   "source": [
    "#Identify the columns that have some 'Null'(or Nan):\n",
    "print(df.info())"
   ]
  },
  {
   "cell_type": "code",
   "execution_count": 18,
   "id": "944fd8ed",
   "metadata": {},
   "outputs": [
    {
     "name": "stdout",
     "output_type": "stream",
     "text": [
      "<class 'pandas.core.frame.DataFrame'>\n",
      "RangeIndex: 2772 entries, 0 to 2771\n",
      "Data columns (total 7 columns):\n",
      " #   Column          Non-Null Count  Dtype  \n",
      "---  ------          --------------  -----  \n",
      " 0   Age             2772 non-null   int32  \n",
      " 1   Gender          2772 non-null   int64  \n",
      " 2   BMI             2772 non-null   float64\n",
      " 3   No_of_Children  2772 non-null   int64  \n",
      " 4   Smoker          2772 non-null   int32  \n",
      " 5   Region          2772 non-null   int64  \n",
      " 6   Charges         2772 non-null   float64\n",
      "dtypes: float64(2), int32(2), int64(3)\n",
      "memory usage: 130.1 KB\n",
      "None\n"
     ]
    }
   ],
   "source": [
    "#Populate missing data:\n",
    "\n",
    "#For continuous attributes (e.g.,age), replace with the mean\n",
    "mean_age = df['Age'].astype('float').mean(axis=0)\n",
    "df['Age'].replace(np.nan, mean_age, inplace=True)\n",
    "\n",
    "#For categorical attributes(e.g.,smoker), replace with the most frequent value\n",
    "is_smoker = df['Smoker'].value_counts().idxmax()\n",
    "df['Smoker'].replace(np.nan, is_smoker, inplace=True)\n",
    "\n",
    "#Update the data types of the respective columns\n",
    "df[['Age','Smoker']] = df[['Age', 'Smoker']].astype('int')\n",
    "\n",
    "#Verify the update:\n",
    "print(df.info())"
   ]
  },
  {
   "cell_type": "code",
   "execution_count": 21,
   "id": "923f225d",
   "metadata": {},
   "outputs": [
    {
     "name": "stdout",
     "output_type": "stream",
     "text": [
      "   Age  Gender     BMI  No_of_Children  Smoker  Region   Charges\n",
      "0   19       1  27.900               0       1       3  16884.92\n",
      "1   18       2  33.770               1       0       4   1725.55\n",
      "2   28       2  33.000               3       0       4   4449.46\n",
      "3   33       2  22.705               0       0       1  21984.47\n",
      "4   32       2  28.880               0       0       1   3866.86\n"
     ]
    }
   ],
   "source": [
    "#Update charges column to round values to nearest 2 decimal places\n",
    "df[['Charges']] = np.round(df[['Charges']],2)\n",
    "\n",
    "#Verify conversion\n",
    "print(df.head())"
   ]
  },
  {
   "cell_type": "markdown",
   "id": "3d2fe2a1",
   "metadata": {},
   "source": [
    "# Exploratory Data Analysis"
   ]
  },
  {
   "cell_type": "code",
   "execution_count": 22,
   "id": "b203787f",
   "metadata": {},
   "outputs": [
    {
     "data": {
      "text/plain": [
       "(0.0, 66902.85800000001)"
      ]
     },
     "execution_count": 22,
     "metadata": {},
     "output_type": "execute_result"
    },
    {
     "data": {
      "image/png": "[encoded data removed]",
      "text/plain": [
       "<Figure size 640x480 with 1 Axes>"
      ]
     },
     "metadata": {},
     "output_type": "display_data"
    }
   ],
   "source": [
    "#Implement the regression plot for charges with respect to bmi:\n",
    "sns.regplot(x='BMI', y='Charges', data=df, line_kws={\"color\":\"red\"})\n",
    "plt.ylim(0,)"
   ]
  },
  {
   "cell_type": "code",
   "execution_count": 23,
   "id": "1bb48d22",
   "metadata": {},
   "outputs": [
    {
     "data": {
      "text/plain": [
       "<Axes: xlabel='Smoker', ylabel='Charges'>"
      ]
     },
     "execution_count": 23,
     "metadata": {},
     "output_type": "execute_result"
    },
    {
     "data": {
      "image/png": "[encoded data removed]",
      "text/plain": [
       "<Figure size 640x480 with 1 Axes>"
      ]
     },
     "metadata": {},
     "output_type": "display_data"
    }
   ],
   "source": [
    "#Implement the box plot for charges with respect to smoker:\n",
    "sns.boxplot(x='Smoker', y='Charges', data=df)"
   ]
  },
  {
   "cell_type": "code",
   "execution_count": 24,
   "id": "a2d14d6a",
   "metadata": {},
   "outputs": [
    {
     "name": "stdout",
     "output_type": "stream",
     "text": [
      "                     Age    Gender       BMI  No_of_Children    Smoker  \\\n",
      "Age             1.000000 -0.026046  0.113048        0.037574 -0.023286   \n",
      "Gender         -0.026046  1.000000  0.042924        0.016020  0.082326   \n",
      "BMI             0.113048  0.042924  1.000000       -0.001492  0.011489   \n",
      "No_of_Children  0.037574  0.016020 -0.001492        1.000000  0.006362   \n",
      "Smoker         -0.023286  0.082326  0.011489        0.006362  1.000000   \n",
      "Region         -0.007167  0.022213  0.271119       -0.025717  0.054077   \n",
      "Charges         0.298624  0.062837  0.199846        0.066442  0.788783   \n",
      "\n",
      "                  Region   Charges  \n",
      "Age            -0.007167  0.298624  \n",
      "Gender          0.022213  0.062837  \n",
      "BMI             0.271119  0.199846  \n",
      "No_of_Children -0.025717  0.066442  \n",
      "Smoker          0.054077  0.788783  \n",
      "Region          1.000000  0.054058  \n",
      "Charges         0.054058  1.000000  \n"
     ]
    }
   ],
   "source": [
    "#Print the correlation matrix for the dataset:\n",
    "print(df.corr())"
   ]
  },
  {
   "cell_type": "markdown",
   "id": "ccf68e62",
   "metadata": {},
   "source": [
    "# Model Development"
   ]
  },
  {
   "cell_type": "code",
   "execution_count": 26,
   "id": "4a762ca6",
   "metadata": {},
   "outputs": [
    {
     "name": "stdout",
     "output_type": "stream",
     "text": [
      "THe R^2 of the model is 0.6221791733924185\n"
     ]
    }
   ],
   "source": [
    "#Fit a linear regression model that may be used to predict the charges value\n",
    "#Use the smoker attribute of the dataset\n",
    "#Print the R^2 score of this model\n",
    "X = df[['Smoker']]\n",
    "Y = df[['Charges']]\n",
    "lm = LinearRegression()\n",
    "lm.fit(X,Y)\n",
    "print(\"The R^2 of the model is\",lm.score(X,Y))"
   ]
  },
  {
   "cell_type": "code",
   "execution_count": 28,
   "id": "da29778b",
   "metadata": {},
   "outputs": [
    {
     "name": "stdout",
     "output_type": "stream",
     "text": [
      "The R^2 of the model is 0.12426185633470044\n"
     ]
    }
   ],
   "source": [
    "#Fit a linear regression model that use all other attributes\n",
    "#Predict the charges value\n",
    "#Print the R^2 of this model\n",
    "Z = df[['Age','Gender','BMI','No_of_Children','Region']]\n",
    "Y = df[['Charges']]\n",
    "lm.fit(Z,Y)\n",
    "print(\"The R^2 of the model is\",lm.score(X1,Y))"
   ]
  },
  {
   "cell_type": "code",
   "execution_count": 29,
   "id": "da20fd98",
   "metadata": {},
   "outputs": [
    {
     "name": "stdout",
     "output_type": "stream",
     "text": [
      "The R^2 of this model is 0.13742867674035786\n"
     ]
    }
   ],
   "source": [
    "#Create a model that can predict the charges value using all other attributes\n",
    "#Create a training pipleine that uses StandardScaler, PolynomialFeatures, LinearRegression\n",
    "Input = [('scale',StandardScaler()),('polynomial',PolynomialFeatures(include_bias=False)), ('model',LinearRegression())]\n",
    "pipe = Pipeline(Input)\n",
    "Z = Z.astype(float)\n",
    "pipe.fit(Z,Y)\n",
    "ypipe=pipe.predict(Z)\n",
    "print(\"The R^2 of this model is\", r2_score(Y,ypipe))"
   ]
  },
  {
   "cell_type": "markdown",
   "id": "b60443e0",
   "metadata": {},
   "source": [
    "# Model Refinement"
   ]
  },
  {
   "cell_type": "code",
   "execution_count": 30,
   "id": "bfce7f58",
   "metadata": {},
   "outputs": [],
   "source": [
    "#Split the data into training and testing subsets, set 20% for testing:\n",
    "x_train, x_test, y_train, y_test = train_test_split(Z,Y,test_size = 0.20, random_state=1)"
   ]
  },
  {
   "cell_type": "code",
   "execution_count": 31,
   "id": "21816b44",
   "metadata": {},
   "outputs": [
    {
     "name": "stdout",
     "output_type": "stream",
     "text": [
      "The R^2 for testing data is 0.08006811608292919\n"
     ]
    }
   ],
   "source": [
    "#Initialize a Ridge regressor that use alpha=0.1\n",
    "RigeModel = Ridge(alpha=0.1)\n",
    "\n",
    "#Fit the model using training data\n",
    "RigeModel.fit(x_train, y_train)\n",
    "yhat = RigeModel.predict(x_test)\n",
    "\n",
    "#Print R^2 score for the testing data\n",
    "print(\"The R^2 for testing data is\", r2_score(y_test, yhat))"
   ]
  },
  {
   "cell_type": "code",
   "execution_count": 32,
   "id": "3ddfdfe6",
   "metadata": {},
   "outputs": [
    {
     "name": "stdout",
     "output_type": "stream",
     "text": [
      "0.0924978829998705\n"
     ]
    }
   ],
   "source": [
    "#Apply polynomial tranformation to the training parameters with degree==2\n",
    "#Use this transormed feature set to fit the same regression model\n",
    "#Print the R^2 for the testing subset\n",
    "\n",
    "pr = PolynomialFeatures(degree=2)\n",
    "x_train_pr = pr.fit_transform(x_train)\n",
    "x_test_pr = pr.fit_transform(x_test)\n",
    "RigeModel.fit(x_train_pr, y_train)\n",
    "y_hat = RigeModel.predict(x_test_pr)\n",
    "\n",
    "print(r2_score(y_test,y_hat))"
   ]
  }
 ],
 "metadata": {
  "kernelspec": {
   "display_name": "Python 3 (ipykernel)",
   "language": "python",
   "name": "python3"
  },
  "language_info": {
   "codemirror_mode": {
    "name": "ipython",
    "version": 3
   },
   "file_extension": ".py",
   "mimetype": "text/x-python",
   "name": "python",
   "nbconvert_exporter": "python",
   "pygments_lexer": "ipython3",
   "version": "3.11.7"
  }
 },
 "nbformat": 4,
 "nbformat_minor": 5
}
