{
 "cells": [
  {
   "cell_type": "code",
   "execution_count": 1,
   "id": "d5cde283",
   "metadata": {},
   "outputs": [],
   "source": [
    "import pandas as pd\n",
    "import numpy as np\n",
    "import matplotlib.pyplot as plt\n",
    "import warnings\n",
    "warnings.filterwarnings('ignore')"
   ]
  },
  {
   "cell_type": "code",
   "execution_count": 2,
   "id": "cb1d13f7",
   "metadata": {},
   "outputs": [],
   "source": [
    "from tqdm import tqdm\n",
    "import seaborn as sns\n",
    "%matplotlib inline\n",
    "from sklearn.model_selection import train_test_split, cross_val_score, GridSearchCV\n",
    "from sklearn.linear_model import LinearRegression, Ridge\n",
    "from sklearn.preprocessing import PolynomialFeatures\n",
    "import requests"
   ]
  },
  {
   "cell_type": "code",
   "execution_count": 3,
   "id": "49b60bd2",
   "metadata": {},
   "outputs": [
    {
     "name": "stdout",
     "output_type": "stream",
     "text": [
      "File downloaded successfully as 'laptops.csv'\n"
     ]
    }
   ],
   "source": [
    "url = 'https://cf-courses-data.s3.us.cloud-object-storage.appdomain.cloud/IBMDeveloperSkillsNetwork-DA0101EN-Coursera/laptop_pricing_dataset_mod2.csv'\n",
    "response = requests.get(url)\n",
    "\n",
    "if response.status_code == 200:\n",
    "    filename = \"laptops.csv\"\n",
    "    with open(filename, \"wb\") as f:\n",
    "        f.write(response.content)\n",
    "    print(f\"File downloaded successfully as '{filename}'\")\n",
    "else:\n",
    "    print(f\"Error downloading the file. Status code:{response.status_code}\")"
   ]
  },
  {
   "cell_type": "code",
   "execution_count": 4,
   "id": "327165a4",
   "metadata": {},
   "outputs": [],
   "source": [
    "df = pd.read_csv(filename, header = 0)"
   ]
  },
  {
   "cell_type": "code",
   "execution_count": 8,
   "id": "ce6c9838",
   "metadata": {},
   "outputs": [],
   "source": [
    "df = df._get_numeric_data()"
   ]
  },
  {
   "cell_type": "code",
   "execution_count": 6,
   "id": "9f91c6b1",
   "metadata": {},
   "outputs": [],
   "source": [
    "#filepath = 'url'\n",
    "#df = pd.read_csv(filepath, header=None)"
   ]
  },
  {
   "cell_type": "code",
   "execution_count": 7,
   "id": "53b0954e",
   "metadata": {},
   "outputs": [],
   "source": [
    "#Drop the two unnecessary columns 'Unnamed:0' and 'Unnamed:0.1':\n",
    "df.drop(['Unnamed: 0.1','Unnamed: 0'], axis=1, inplace=True)"
   ]
  },
  {
   "cell_type": "code",
   "execution_count": 10,
   "id": "bca9b0ce",
   "metadata": {
    "scrolled": true
   },
   "outputs": [
    {
     "data": {
      "text/html": [
       "<div>\n",
       "<style scoped>\n",
       "    .dataframe tbody tr th:only-of-type {\n",
       "        vertical-align: middle;\n",
       "    }\n",
       "\n",
       "    .dataframe tbody tr th {\n",
       "        vertical-align: top;\n",
       "    }\n",
       "\n",
       "    .dataframe thead th {\n",
       "        text-align: right;\n",
       "    }\n",
       "</style>\n",
       "<table border=\"1\" class=\"dataframe\">\n",
       "  <thead>\n",
       "    <tr style=\"text-align: right;\">\n",
       "      <th></th>\n",
       "      <th>Category</th>\n",
       "      <th>GPU</th>\n",
       "      <th>OS</th>\n",
       "      <th>CPU_core</th>\n",
       "      <th>Screen_Size_inch</th>\n",
       "      <th>CPU_frequency</th>\n",
       "      <th>RAM_GB</th>\n",
       "      <th>Storage_GB_SSD</th>\n",
       "      <th>Weight_pounds</th>\n",
       "      <th>Price</th>\n",
       "      <th>Screen-Full_HD</th>\n",
       "      <th>Screen-IPS_panel</th>\n",
       "    </tr>\n",
       "  </thead>\n",
       "  <tbody>\n",
       "    <tr>\n",
       "      <th>0</th>\n",
       "      <td>4</td>\n",
       "      <td>2</td>\n",
       "      <td>1</td>\n",
       "      <td>5</td>\n",
       "      <td>14.0</td>\n",
       "      <td>0.551724</td>\n",
       "      <td>8</td>\n",
       "      <td>256</td>\n",
       "      <td>3.52800</td>\n",
       "      <td>978</td>\n",
       "      <td>0</td>\n",
       "      <td>1</td>\n",
       "    </tr>\n",
       "    <tr>\n",
       "      <th>1</th>\n",
       "      <td>3</td>\n",
       "      <td>1</td>\n",
       "      <td>1</td>\n",
       "      <td>3</td>\n",
       "      <td>15.6</td>\n",
       "      <td>0.689655</td>\n",
       "      <td>4</td>\n",
       "      <td>256</td>\n",
       "      <td>4.85100</td>\n",
       "      <td>634</td>\n",
       "      <td>1</td>\n",
       "      <td>0</td>\n",
       "    </tr>\n",
       "    <tr>\n",
       "      <th>2</th>\n",
       "      <td>3</td>\n",
       "      <td>1</td>\n",
       "      <td>1</td>\n",
       "      <td>7</td>\n",
       "      <td>15.6</td>\n",
       "      <td>0.931034</td>\n",
       "      <td>8</td>\n",
       "      <td>256</td>\n",
       "      <td>4.85100</td>\n",
       "      <td>946</td>\n",
       "      <td>1</td>\n",
       "      <td>0</td>\n",
       "    </tr>\n",
       "    <tr>\n",
       "      <th>3</th>\n",
       "      <td>4</td>\n",
       "      <td>2</td>\n",
       "      <td>1</td>\n",
       "      <td>5</td>\n",
       "      <td>13.3</td>\n",
       "      <td>0.551724</td>\n",
       "      <td>8</td>\n",
       "      <td>128</td>\n",
       "      <td>2.69010</td>\n",
       "      <td>1244</td>\n",
       "      <td>0</td>\n",
       "      <td>1</td>\n",
       "    </tr>\n",
       "    <tr>\n",
       "      <th>4</th>\n",
       "      <td>4</td>\n",
       "      <td>2</td>\n",
       "      <td>1</td>\n",
       "      <td>7</td>\n",
       "      <td>15.6</td>\n",
       "      <td>0.620690</td>\n",
       "      <td>8</td>\n",
       "      <td>256</td>\n",
       "      <td>4.21155</td>\n",
       "      <td>837</td>\n",
       "      <td>1</td>\n",
       "      <td>0</td>\n",
       "    </tr>\n",
       "  </tbody>\n",
       "</table>\n",
       "</div>"
      ],
      "text/plain": [
       "   Category  GPU  OS  CPU_core  Screen_Size_inch  CPU_frequency  RAM_GB  \\\n",
       "0         4    2   1         5              14.0       0.551724       8   \n",
       "1         3    1   1         3              15.6       0.689655       4   \n",
       "2         3    1   1         7              15.6       0.931034       8   \n",
       "3         4    2   1         5              13.3       0.551724       8   \n",
       "4         4    2   1         7              15.6       0.620690       8   \n",
       "\n",
       "   Storage_GB_SSD  Weight_pounds  Price  Screen-Full_HD  Screen-IPS_panel  \n",
       "0             256        3.52800    978               0                 1  \n",
       "1             256        4.85100    634               1                 0  \n",
       "2             256        4.85100    946               1                 0  \n",
       "3             128        2.69010   1244               0                 1  \n",
       "4             256        4.21155    837               1                 0  "
      ]
     },
     "execution_count": 10,
     "metadata": {},
     "output_type": "execute_result"
    }
   ],
   "source": [
    "df.head()"
   ]
  },
  {
   "cell_type": "markdown",
   "id": "139d658e",
   "metadata": {},
   "source": [
    "### 1. Using Cross Validation to improve the model"
   ]
  },
  {
   "cell_type": "code",
   "execution_count": 11,
   "id": "be76e6e1",
   "metadata": {},
   "outputs": [],
   "source": [
    "#Use Cross validation to improve the model\n",
    "#Divide the dataset into x_data and y_data parameters:\n",
    "y_data = df['Price']\n",
    "x_data = df.drop('Price', axis=1)"
   ]
  },
  {
   "cell_type": "code",
   "execution_count": 12,
   "id": "0386a870",
   "metadata": {},
   "outputs": [
    {
     "name": "stdout",
     "output_type": "stream",
     "text": [
      "Number of test samples: 24\n",
      "Number of training samples: 214\n"
     ]
    }
   ],
   "source": [
    "#Split the data into training and testing subsets\n",
    "#Reserve 10% of the data set for testing purposes:\n",
    "x_train,x_test,y_train,y_test = train_test_split(x_data,y_data,test_size=0.10,random_state=1)\n",
    "\n",
    "print(\"Number of test samples:\", x_test.shape[0])\n",
    "print(\"Number of training samples:\", x_train.shape[0])"
   ]
  },
  {
   "cell_type": "code",
   "execution_count": 13,
   "id": "824b969f",
   "metadata": {},
   "outputs": [
    {
     "name": "stdout",
     "output_type": "stream",
     "text": [
      "The R^2 for the training subsets is 0.14829792099817973\n",
      "The R^2 for the testing subsets is -0.06599437350393789\n"
     ]
    }
   ],
   "source": [
    "#Create a single variable linear regression model using \"CPU_frequency\"\n",
    "#Print the R^2 of this model for the training and testing subsets:\n",
    "lre = LinearRegression()\n",
    "lre.fit(x_train[['CPU_frequency']],y_train)\n",
    "r2_test = lre.score(x_test[['CPU_frequency']], y_test)\n",
    "r2_train = lre.score(x_train[['CPU_frequency']], y_train)\n",
    "\n",
    "print(\"The R^2 for the training subsets is\", r2_train)\n",
    "print(\"The R^2 for the testing subsets is\", r2_test)"
   ]
  },
  {
   "cell_type": "code",
   "execution_count": 14,
   "id": "022452db",
   "metadata": {},
   "outputs": [
    {
     "name": "stdout",
     "output_type": "stream",
     "text": [
      "The mean value of R^2 score is -0.16109232388595113\n",
      "The standard deviatino is 0.384957978666471\n"
     ]
    }
   ],
   "source": [
    "#Run a 4-fold cross validation on the model\n",
    "#Print the mean value of R^2 score and its standard deviation:\n",
    "Rcross = cross_val_score(lre, x_data[['CPU_frequency']], y_data, cv=4)\n",
    "\n",
    "print(\"The mean value of R^2 score is\", Rcross.mean())\n",
    "print(\"The standard deviatino is\", Rcross.std())"
   ]
  },
  {
   "cell_type": "markdown",
   "id": "b6ff8434",
   "metadata": {},
   "source": [
    "### 2. Overfitting"
   ]
  },
  {
   "cell_type": "code",
   "execution_count": 16,
   "id": "a669d971",
   "metadata": {},
   "outputs": [
    {
     "name": "stdout",
     "output_type": "stream",
     "text": [
      "Number of test samples: 119\n",
      "Number of training samples: 119\n"
     ]
    }
   ],
   "source": [
    "#Split the data set into training and testing components again\n",
    "#This time reserve 50% of the data set for testing:\n",
    "x_train,x_test,y_train,y_test = train_test_split(x_data, y_data, test_size=0.50, random_state=0)\n",
    "\n",
    "#Fixing random_state to a fixed quantity helps maintain uniformity between multiple\n",
    "\n",
    "print(\"Number of test samples:\", x_test.shape[0])\n",
    "print(\"Number of training samples:\", x_train.shape[0])"
   ]
  },
  {
   "cell_type": "code",
   "execution_count": 17,
   "id": "40e71033",
   "metadata": {},
   "outputs": [],
   "source": [
    "#Create polynomial features using the single attribute\n",
    "#Evaluate the R^2 scores of the model created using different degress of polynomial features\n",
    "#Range: 1-5\n",
    "#Save this set of values of R^2 score as a list:\n",
    "lre = LinearRegression()\n",
    "Rsqu_test = []\n",
    "\n",
    "order = [1,2,3,4,5]\n",
    "for n in order:\n",
    "    pr = PolynomialFeatures(degree=n)\n",
    "    x_train_pr = pr.fit_transform(x_train[['CPU_frequency']])\n",
    "    x_test_pr = pr.fit_transform(x_test[['CPU_frequency']])\n",
    "    lre.fit(x_train_pr, y_train)\n",
    "    \n",
    "    Rsqu_test.append(lre.score(x_test_pr, y_test))"
   ]
  },
  {
   "cell_type": "code",
   "execution_count": 18,
   "id": "15d4b7f9",
   "metadata": {},
   "outputs": [
    {
     "data": {
      "text/plain": [
       "Text(0.5, 1.0, 'R^2 using test data')"
      ]
     },
     "execution_count": 18,
     "metadata": {},
     "output_type": "execute_result"
    },
    {
     "data": {
      "image/png": "[encoded data removed]",
      "text/plain": [
       "<Figure size 640x480 with 1 Axes>"
      ]
     },
     "metadata": {},
     "output_type": "display_data"
    }
   ],
   "source": [
    "#Plot the values of R^2 scores against the order\n",
    "#Note the point where the score drops:\n",
    "plt.plot(order, Rsqu_test)\n",
    "plt.xlabel('order')\n",
    "plt.ylabel('R^2')\n",
    "plt.title('R^2 using test data')"
   ]
  },
  {
   "cell_type": "markdown",
   "id": "87c655c2",
   "metadata": {},
   "source": [
    "### 3. Ridge Regression"
   ]
  },
  {
   "cell_type": "code",
   "execution_count": 20,
   "id": "cd41c78f",
   "metadata": {},
   "outputs": [],
   "source": [
    "#Use multiple features: CPU_frequency, RAM_GB, Storage_GB_SSD, CPU_core, OS, GPU, Category\n",
    "#Create a polynomial feature model using all parameters with degree=2\n",
    "#Create the training and testing attribute sets:\n",
    "pr1 = PolynomialFeatures(degree=2)\n",
    "x_train_pr1=pr1.fit_transform(x_train[['CPU_frequency', 'RAM_GB', 'Storage_GB_SSD','CPU_core','OS','GPU','Category']])\n",
    "x_test_pr1=pr1.fit_transform(x_test[['CPU_frequency', 'RAM_GB', 'Storage_GB_SSD','CPU_core','OS','GPU','Category']])"
   ]
  },
  {
   "cell_type": "code",
   "execution_count": 22,
   "id": "9a5d4635",
   "metadata": {},
   "outputs": [
    {
     "name": "stderr",
     "output_type": "stream",
     "text": [
      "100%|██████████| 999/999 [00:02<00:00, 337.80it/s, Test Score=0.423, Train Score=0.669]\n"
     ]
    }
   ],
   "source": [
    "#Create a Ridge Regression model and evaluate it using alpha [0.001-1]\n",
    "#Create a list of all Ridge Regression R^2 scores for training and testing data:\n",
    "Rsqu_train = []\n",
    "Rsqu_test = []\n",
    "Alpha = np.arange(0.001,1,0.001)\n",
    "pbar=tqdm(Alpha)\n",
    "\n",
    "for alpha in pbar:\n",
    "    RigeModel = Ridge(alpha=alpha)\n",
    "    RigeModel.fit(x_train_pr1, y_train)\n",
    "    test_score = RigeModel.score(x_test_pr1, y_test)\n",
    "    train_score = RigeModel.score(x_train_pr1, y_train)\n",
    "    pbar.set_postfix({\"Test Score\": test_score, \"Train Score\": train_score})\n",
    "    \n",
    "    Rsqu_test.append(test_score)\n",
    "    Rsqu_train.append(train_score)"
   ]
  },
  {
   "cell_type": "code",
   "execution_count": 28,
   "id": "38016573",
   "metadata": {},
   "outputs": [
    {
     "data": {
      "text/plain": [
       "<matplotlib.legend.Legend at 0x27c4ae2d3d0>"
      ]
     },
     "execution_count": 28,
     "metadata": {},
     "output_type": "execute_result"
    },
    {
     "data": {
      "image/png": "[encoded data removed]",
      "text/plain": [
       "<Figure size 1000x600 with 1 Axes>"
      ]
     },
     "metadata": {},
     "output_type": "display_data"
    }
   ],
   "source": [
    "#Plot the R^2 values for training and testing sets with respect to the value of alpha:\n",
    "width = 10\n",
    "height = 6\n",
    "plt.figure(figsize=(width,height))\n",
    "\n",
    "plt.plot(Alpha, Rsqu_test, label='validation data')\n",
    "plt.plot(Alpha, Rsqu_train, label='training data')\n",
    "plt.xlabel('alpha')\n",
    "plt.ylabel('R^2')\n",
    "plt.ylim(0,1)\n",
    "plt.legend()"
   ]
  },
  {
   "cell_type": "markdown",
   "id": "75beae94",
   "metadata": {},
   "source": [
    "### 4. Grid Search"
   ]
  },
  {
   "cell_type": "code",
   "execution_count": 30,
   "id": "89ced729",
   "metadata": {},
   "outputs": [],
   "source": [
    "#Use GridSearchCV to identify the value of alpha for which the model performs best\n",
    "#Assume the set of alpha values to be used as\n",
    "#{0.0001,0.001,0.01,0.1,1,10}\n",
    "\n",
    "#Create a dictionary of parameter values:\n",
    "parameters1 = [{'alpha': [0.0001,0.001,0.01,0.1,1,10]}]"
   ]
  },
  {
   "cell_type": "code",
   "execution_count": 31,
   "id": "332505c4",
   "metadata": {},
   "outputs": [],
   "source": [
    "#Create a Ridge instance and run Grid Search using a 4 fold cross validation\n",
    "RR = Ridge()\n",
    "Grid1 = GridSearchCV(RR, parameters1, cv=4)"
   ]
  },
  {
   "cell_type": "code",
   "execution_count": 32,
   "id": "eadf0830",
   "metadata": {},
   "outputs": [
    {
     "data": {
      "text/html": [
       "<style>#sk-container-id-1 {color: black;background-color: white;}#sk-container-id-1 pre{padding: 0;}#sk-container-id-1 div.sk-toggleable {background-color: white;}#sk-container-id-1 label.sk-toggleable__label {cursor: pointer;display: block;width: 100%;margin-bottom: 0;padding: 0.3em;box-sizing: border-box;text-align: center;}#sk-container-id-1 label.sk-toggleable__label-arrow:before {content: \"▸\";float: left;margin-right: 0.25em;color: #696969;}#sk-container-id-1 label.sk-toggleable__label-arrow:hover:before {color: black;}#sk-container-id-1 div.sk-estimator:hover label.sk-toggleable__label-arrow:before {color: black;}#sk-container-id-1 div.sk-toggleable__content {max-height: 0;max-width: 0;overflow: hidden;text-align: left;background-color: #f0f8ff;}#sk-container-id-1 div.sk-toggleable__content pre {margin: 0.2em;color: black;border-radius: 0.25em;background-color: #f0f8ff;}#sk-container-id-1 input.sk-toggleable__control:checked~div.sk-toggleable__content {max-height: 200px;max-width: 100%;overflow: auto;}#sk-container-id-1 input.sk-toggleable__control:checked~label.sk-toggleable__label-arrow:before {content: \"▾\";}#sk-container-id-1 div.sk-estimator input.sk-toggleable__control:checked~label.sk-toggleable__label {background-color: #d4ebff;}#sk-container-id-1 div.sk-label input.sk-toggleable__control:checked~label.sk-toggleable__label {background-color: #d4ebff;}#sk-container-id-1 input.sk-hidden--visually {border: 0;clip: rect(1px 1px 1px 1px);clip: rect(1px, 1px, 1px, 1px);height: 1px;margin: -1px;overflow: hidden;padding: 0;position: absolute;width: 1px;}#sk-container-id-1 div.sk-estimator {font-family: monospace;background-color: #f0f8ff;border: 1px dotted black;border-radius: 0.25em;box-sizing: border-box;margin-bottom: 0.5em;}#sk-container-id-1 div.sk-estimator:hover {background-color: #d4ebff;}#sk-container-id-1 div.sk-parallel-item::after {content: \"\";width: 100%;border-bottom: 1px solid gray;flex-grow: 1;}#sk-container-id-1 div.sk-label:hover label.sk-toggleable__label {background-color: #d4ebff;}#sk-container-id-1 div.sk-serial::before {content: \"\";position: absolute;border-left: 1px solid gray;box-sizing: border-box;top: 0;bottom: 0;left: 50%;z-index: 0;}#sk-container-id-1 div.sk-serial {display: flex;flex-direction: column;align-items: center;background-color: white;padding-right: 0.2em;padding-left: 0.2em;position: relative;}#sk-container-id-1 div.sk-item {position: relative;z-index: 1;}#sk-container-id-1 div.sk-parallel {display: flex;align-items: stretch;justify-content: center;background-color: white;position: relative;}#sk-container-id-1 div.sk-item::before, #sk-container-id-1 div.sk-parallel-item::before {content: \"\";position: absolute;border-left: 1px solid gray;box-sizing: border-box;top: 0;bottom: 0;left: 50%;z-index: -1;}#sk-container-id-1 div.sk-parallel-item {display: flex;flex-direction: column;z-index: 1;position: relative;background-color: white;}#sk-container-id-1 div.sk-parallel-item:first-child::after {align-self: flex-end;width: 50%;}#sk-container-id-1 div.sk-parallel-item:last-child::after {align-self: flex-start;width: 50%;}#sk-container-id-1 div.sk-parallel-item:only-child::after {width: 0;}#sk-container-id-1 div.sk-dashed-wrapped {border: 1px dashed gray;margin: 0 0.4em 0.5em 0.4em;box-sizing: border-box;padding-bottom: 0.4em;background-color: white;}#sk-container-id-1 div.sk-label label {font-family: monospace;font-weight: bold;display: inline-block;line-height: 1.2em;}#sk-container-id-1 div.sk-label-container {text-align: center;}#sk-container-id-1 div.sk-container {/* jupyter's `normalize.less` sets `[hidden] { display: none; }` but bootstrap.min.css set `[hidden] { display: none !important; }` so we also need the `!important` here to be able to override the default hidden behavior on the sphinx rendered scikit-learn.org. See: https://github.com/scikit-learn/scikit-learn/issues/21755 */display: inline-block !important;position: relative;}#sk-container-id-1 div.sk-text-repr-fallback {display: none;}</style><div id=\"sk-container-id-1\" class=\"sk-top-container\"><div class=\"sk-text-repr-fallback\"><pre>GridSearchCV(cv=4, estimator=Ridge(),\n",
       "             param_grid=[{&#x27;alpha&#x27;: [0.0001, 0.001, 0.01, 0.1, 1, 10]}])</pre><b>In a Jupyter environment, please rerun this cell to show the HTML representation or trust the notebook. <br />On GitHub, the HTML representation is unable to render, please try loading this page with nbviewer.org.</b></div><div class=\"sk-container\" hidden><div class=\"sk-item sk-dashed-wrapped\"><div class=\"sk-label-container\"><div class=\"sk-label sk-toggleable\"><input class=\"sk-toggleable__control sk-hidden--visually\" id=\"sk-estimator-id-1\" type=\"checkbox\" ><label for=\"sk-estimator-id-1\" class=\"sk-toggleable__label sk-toggleable__label-arrow\">GridSearchCV</label><div class=\"sk-toggleable__content\"><pre>GridSearchCV(cv=4, estimator=Ridge(),\n",
       "             param_grid=[{&#x27;alpha&#x27;: [0.0001, 0.001, 0.01, 0.1, 1, 10]}])</pre></div></div></div><div class=\"sk-parallel\"><div class=\"sk-parallel-item\"><div class=\"sk-item\"><div class=\"sk-label-container\"><div class=\"sk-label sk-toggleable\"><input class=\"sk-toggleable__control sk-hidden--visually\" id=\"sk-estimator-id-2\" type=\"checkbox\" ><label for=\"sk-estimator-id-2\" class=\"sk-toggleable__label sk-toggleable__label-arrow\">estimator: Ridge</label><div class=\"sk-toggleable__content\"><pre>Ridge()</pre></div></div></div><div class=\"sk-serial\"><div class=\"sk-item\"><div class=\"sk-estimator sk-toggleable\"><input class=\"sk-toggleable__control sk-hidden--visually\" id=\"sk-estimator-id-3\" type=\"checkbox\" ><label for=\"sk-estimator-id-3\" class=\"sk-toggleable__label sk-toggleable__label-arrow\">Ridge</label><div class=\"sk-toggleable__content\"><pre>Ridge()</pre></div></div></div></div></div></div></div></div></div></div>"
      ],
      "text/plain": [
       "GridSearchCV(cv=4, estimator=Ridge(),\n",
       "             param_grid=[{'alpha': [0.0001, 0.001, 0.01, 0.1, 1, 10]}])"
      ]
     },
     "execution_count": 32,
     "metadata": {},
     "output_type": "execute_result"
    }
   ],
   "source": [
    "#Fit the Grid Search to the training data:\n",
    "Grid1.fit(x_train[['CPU_frequency','RAM_GB','Storage_GB_SSD','CPU_core','OS','GPU','Category']], y_train)"
   ]
  },
  {
   "cell_type": "code",
   "execution_count": 33,
   "id": "e645c55b",
   "metadata": {},
   "outputs": [
    {
     "data": {
      "text/plain": [
       "0.300990504869182"
      ]
     },
     "execution_count": 33,
     "metadata": {},
     "output_type": "execute_result"
    }
   ],
   "source": [
    "#Print the R^2 score for the test data using the estimator that uses the derived optimum value of alpha:\n",
    "BestRR = Grid1.best_estimator_\n",
    "BestRR.score(x_test[['CPU_frequency','RAM_GB','Storage_GB_SSD','CPU_core','OS','GPU','Category']], y_test)"
   ]
  },
  {
   "cell_type": "code",
   "execution_count": null,
   "id": "90f8d747",
   "metadata": {},
   "outputs": [],
   "source": []
  }
 ],
 "metadata": {
  "kernelspec": {
   "display_name": "Python 3 (ipykernel)",
   "language": "python",
   "name": "python3"
  },
  "language_info": {
   "codemirror_mode": {
    "name": "ipython",
    "version": 3
   },
   "file_extension": ".py",
   "mimetype": "text/x-python",
   "name": "python",
   "nbconvert_exporter": "python",
   "pygments_lexer": "ipython3",
   "version": "3.11.7"
  }
 },
 "nbformat": 4,
 "nbformat_minor": 5
}
